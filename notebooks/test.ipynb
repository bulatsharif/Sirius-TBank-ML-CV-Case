{
 "cells": [
  {
   "cell_type": "code",
   "execution_count": 7,
   "id": "5f2ca175",
   "metadata": {},
   "outputs": [],
   "source": [
    "from ultralytics import YOLO\n",
    "import time "
   ]
  },
  {
   "cell_type": "code",
   "execution_count": 8,
   "id": "3adb21cf",
   "metadata": {},
   "outputs": [],
   "source": [
    "model = YOLO(\"../app/models/yolo_model.pt\")"
   ]
  },
  {
   "cell_type": "code",
   "execution_count": 9,
   "id": "1852e202",
   "metadata": {},
   "outputs": [
    {
     "name": "stdout",
     "output_type": "stream",
     "text": [
      "Ultralytics 8.3.200 🚀 Python-3.13.2 torch-2.8.0 CPU (Apple M3 Pro)\n",
      "YOLO11m summary (fused): 125 layers, 20,030,803 parameters, 0 gradients, 67.6 GFLOPs\n",
      "\u001b[34m\u001b[1mval: \u001b[0mFast image access ✅ (ping: 0.0±0.0 ms, read: 341.9±261.6 MB/s, size: 125.1 KB)\n",
      "\u001b[K\u001b[34m\u001b[1mval: \u001b[0mScanning /Users/bulatsaripov/Desktop/Projects/Sirius_TBank_CV_Case/Sirius-TBank-ML-CV-Case/test_set/labels/val.cache... 16 images, 16 backgrounds, 0 corrupt: 100% ━━━━━━━━━━━━ 32/32 103.2Kit/s 0.0s\n"
     ]
    },
    {
     "name": "stderr",
     "output_type": "stream",
     "text": [
      "libpng warning: iCCP: known incorrect sRGB profile\n"
     ]
    },
    {
     "name": "stdout",
     "output_type": "stream",
     "text": [
      "\u001b[K                 Class     Images  Instances      Box(P          R      mAP50  mAP50-95): 100% ━━━━━━━━━━━━ 2/2 0.1it/s 18.5s6.0s\n",
      "                   all         32         19      0.933      0.842      0.883      0.519\n",
      "Speed: 1.0ms preprocess, 567.0ms inference, 0.0ms loss, 0.4ms postprocess per image\n",
      "Results saved to \u001b[1m/Users/bulatsaripov/Desktop/Projects/Sirius_TBank_CV_Case/Sirius-TBank-ML-CV-Case/notebooks/runs/detect/val4\u001b[0m\n"
     ]
    }
   ],
   "source": [
    "metrics = model.val(data=\"../test_set/data.yaml\")"
   ]
  },
  {
   "cell_type": "code",
   "execution_count": 10,
   "id": "0e876af6",
   "metadata": {},
   "outputs": [
    {
     "name": "stdout",
     "output_type": "stream",
     "text": [
      "metrics/precision(B): 0.9326854956255276\n",
      "metrics/recall(B): 0.8421052631578947\n",
      "metrics/mAP50(B): 0.8826712429727135\n",
      "metrics/mAP50-95(B): 0.519325435244222\n",
      "fitness: 0.519325435244222\n"
     ]
    }
   ],
   "source": [
    "for metric, result in metrics.results_dict.items():\n",
    "    print(f\"{metric}: {result}\")\n"
   ]
  },
  {
   "cell_type": "code",
   "execution_count": 11,
   "id": "124a26b1",
   "metadata": {},
   "outputs": [
    {
     "name": "stdout",
     "output_type": "stream",
     "text": [
      "\n",
      "image 1/1 /Users/bulatsaripov/Desktop/Projects/Sirius_TBank_CV_Case/Sirius-TBank-ML-CV-Case/notebooks/../test_set/images/val/5.png: 352x640 2 tbank_logos, 90.9ms\n",
      "Speed: 1.0ms preprocess, 90.9ms inference, 1.6ms postprocess per image at shape (1, 3, 352, 640)\n"
     ]
    }
   ],
   "source": [
    "start_time = time.time()\n",
    "\n",
    "results = model.predict(\"../test_set/images/val/5.png\")\n",
    "\n",
    "end_time = time.time()\n",
    "\n",
    "inference_time = end_time - start_time"
   ]
  },
  {
   "cell_type": "code",
   "execution_count": 12,
   "id": "d81da6f5",
   "metadata": {},
   "outputs": [
    {
     "name": "stdout",
     "output_type": "stream",
     "text": [
      "Время на инференс модели: 0.1126241683959961 секунд\n"
     ]
    }
   ],
   "source": [
    "print(f\"Время на инференс модели: {inference_time} секунд\")"
   ]
  },
  {
   "cell_type": "code",
   "execution_count": null,
   "id": "110b40be",
   "metadata": {},
   "outputs": [],
   "source": []
  }
 ],
 "metadata": {
  "kernelspec": {
   "display_name": "base",
   "language": "python",
   "name": "python3"
  },
  "language_info": {
   "codemirror_mode": {
    "name": "ipython",
    "version": 3
   },
   "file_extension": ".py",
   "mimetype": "text/x-python",
   "name": "python",
   "nbconvert_exporter": "python",
   "pygments_lexer": "ipython3",
   "version": "3.13.2"
  }
 },
 "nbformat": 4,
 "nbformat_minor": 5
}
