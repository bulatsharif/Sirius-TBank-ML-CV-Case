{
 "cells": [
  {
   "cell_type": "code",
   "execution_count": 1,
   "id": "5f2ca175",
   "metadata": {},
   "outputs": [],
   "source": [
    "from ultralytics import YOLO"
   ]
  },
  {
   "cell_type": "code",
   "execution_count": 2,
   "id": "3adb21cf",
   "metadata": {},
   "outputs": [],
   "source": [
    "model = YOLO(\"../app/models/yolo_model.pt\")"
   ]
  },
  {
   "cell_type": "code",
   "execution_count": 3,
   "id": "1852e202",
   "metadata": {},
   "outputs": [
    {
     "name": "stdout",
     "output_type": "stream",
     "text": [
      "Ultralytics 8.3.200 🚀 Python-3.13.2 torch-2.8.0 CPU (Apple M3 Pro)\n",
      "YOLO11m summary (fused): 125 layers, 20,030,803 parameters, 0 gradients, 67.6 GFLOPs\n",
      "\u001b[34m\u001b[1mval: \u001b[0mFast image access ✅ (ping: 0.0±0.0 ms, read: 1093.2±1267.5 MB/s, size: 592.8 KB)\n",
      "\u001b[K\u001b[34m\u001b[1mval: \u001b[0mScanning /Users/bulatsaripov/Desktop/Projects/Sirius_TBank_CV_Case/Sirius-TBank-ML-CV-Case/test_set/labels/val.cache... 16 images, 0 backgrounds, 0 corrupt: 100% ━━━━━━━━━━━━ 16/16 88.1Kit/s 0.0s\n"
     ]
    },
    {
     "name": "stderr",
     "output_type": "stream",
     "text": [
      "libpng warning: iCCP: known incorrect sRGB profile\n"
     ]
    },
    {
     "name": "stdout",
     "output_type": "stream",
     "text": [
      "\u001b[K                 Class     Images  Instances      Box(P          R      mAP50  mAP50-95): 100% ━━━━━━━━━━━━ 1/1 0.1it/s 11.0s\n",
      "                   all         16         19      0.932      0.842      0.882      0.519\n",
      "Speed: 1.0ms preprocess, 677.8ms inference, 0.0ms loss, 0.3ms postprocess per image\n",
      "Results saved to \u001b[1m/Users/bulatsaripov/Desktop/Projects/Sirius_TBank_CV_Case/Sirius-TBank-ML-CV-Case/notebooks/runs/detect/val\u001b[0m\n"
     ]
    }
   ],
   "source": [
    "metrics = model.val(data=\"../test_set/data.yaml\")"
   ]
  },
  {
   "cell_type": "code",
   "execution_count": 5,
   "id": "0e876af6",
   "metadata": {},
   "outputs": [
    {
     "name": "stdout",
     "output_type": "stream",
     "text": [
      "metrics/precision(B): 0.9322309326957835\n",
      "metrics/recall(B): 0.8421052631578947\n",
      "metrics/mAP50(B): 0.8821157395330637\n",
      "metrics/mAP50-95(B): 0.5185435273556946\n",
      "fitness: 0.5185435273556946\n"
     ]
    }
   ],
   "source": [
    "for metric, result in metrics.results_dict.items():\n",
    "    print(f\"{metric}: {result}\")\n"
   ]
  },
  {
   "cell_type": "code",
   "execution_count": null,
   "id": "f74eddd5",
   "metadata": {},
   "outputs": [],
   "source": []
  }
 ],
 "metadata": {
  "kernelspec": {
   "display_name": "base",
   "language": "python",
   "name": "python3"
  },
  "language_info": {
   "codemirror_mode": {
    "name": "ipython",
    "version": 3
   },
   "file_extension": ".py",
   "mimetype": "text/x-python",
   "name": "python",
   "nbconvert_exporter": "python",
   "pygments_lexer": "ipython3",
   "version": "3.13.2"
  }
 },
 "nbformat": 4,
 "nbformat_minor": 5
}
