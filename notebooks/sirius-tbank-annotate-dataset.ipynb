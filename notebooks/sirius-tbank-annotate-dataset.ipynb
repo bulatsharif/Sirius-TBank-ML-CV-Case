{
 "cells": [
  {
   "cell_type": "code",
   "execution_count": 1,
   "id": "f5188517",
   "metadata": {
    "execution": {
     "iopub.execute_input": "2025-09-16T14:35:22.497582Z",
     "iopub.status.busy": "2025-09-16T14:35:22.497231Z",
     "iopub.status.idle": "2025-09-16T14:35:23.129476Z",
     "shell.execute_reply": "2025-09-16T14:35:23.128776Z"
    },
    "papermill": {
     "duration": 0.639976,
     "end_time": "2025-09-16T14:35:23.131168",
     "exception": false,
     "start_time": "2025-09-16T14:35:22.491192",
     "status": "completed"
    },
    "tags": []
   },
   "outputs": [],
   "source": [
    "import kagglehub\n",
    "import os\n",
    "import shutil\n",
    "import matplotlib.pyplot as plt\n",
    "from typing import List\n",
    "import tqdm\n",
    "import yaml\n",
    "import random, numpy as np\n",
    "random.seed(0)\n",
    "np.random.seed(0)\n",
    "\n",
    "import cv2\n",
    "cv2.setRNGSeed(0)   \n",
    "\n",
    "MIN_MATCH_COUNT = 10\n",
    "TBANK_PATH = \"/kaggle/input/tbank-logo/tbank_logo.png\"\n",
    "SUBSET_IMAGE_SIZE = 29000\n",
    "TRAIN_COEFFICIENT = 0.90"
   ]
  },
  {
   "cell_type": "code",
   "execution_count": 2,
   "id": "86e081cc",
   "metadata": {
    "execution": {
     "iopub.execute_input": "2025-09-16T14:35:23.140368Z",
     "iopub.status.busy": "2025-09-16T14:35:23.139774Z",
     "iopub.status.idle": "2025-09-16T14:35:23.143334Z",
     "shell.execute_reply": "2025-09-16T14:35:23.142726Z"
    },
    "id": "caIuOD1CeSnQ",
    "outputId": "7938d154-2dae-4533-bcd8-445f38ceb5ff",
    "papermill": {
     "duration": 0.009287,
     "end_time": "2025-09-16T14:35:23.144583",
     "exception": false,
     "start_time": "2025-09-16T14:35:23.135296",
     "status": "completed"
    },
    "tags": []
   },
   "outputs": [],
   "source": [
    "path = \"/kaggle/input/sirius-cv-case\"\n",
    "\n"
   ]
  },
  {
   "cell_type": "code",
   "execution_count": 3,
   "id": "7665cb24",
   "metadata": {
    "execution": {
     "iopub.execute_input": "2025-09-16T14:35:23.153966Z",
     "iopub.status.busy": "2025-09-16T14:35:23.153415Z",
     "iopub.status.idle": "2025-09-16T14:38:22.517916Z",
     "shell.execute_reply": "2025-09-16T14:38:22.516977Z"
    },
    "id": "iJIHudfOefv_",
    "papermill": {
     "duration": 179.370579,
     "end_time": "2025-09-16T14:38:22.519635",
     "exception": false,
     "start_time": "2025-09-16T14:35:23.149056",
     "status": "completed"
    },
    "tags": []
   },
   "outputs": [],
   "source": [
    "os.makedirs('Dataset', exist_ok=True)\n",
    "for file_name in os.listdir(path + \"/data_sirius\"):\n",
    "  shutil.copy(path + \"/data_sirius/\" + file_name, f\"./Dataset/{file_name}\")\n"
   ]
  },
  {
   "cell_type": "code",
   "execution_count": 4,
   "id": "8973785e",
   "metadata": {
    "execution": {
     "iopub.execute_input": "2025-09-16T14:38:22.530043Z",
     "iopub.status.busy": "2025-09-16T14:38:22.529350Z",
     "iopub.status.idle": "2025-09-16T14:38:22.548501Z",
     "shell.execute_reply": "2025-09-16T14:38:22.547282Z"
    },
    "id": "mNnrS4ra5TNF",
    "papermill": {
     "duration": 0.026677,
     "end_time": "2025-09-16T14:38:22.550405",
     "exception": false,
     "start_time": "2025-09-16T14:38:22.523728",
     "status": "completed"
    },
    "tags": []
   },
   "outputs": [],
   "source": [
    "def detect_image_on_another(query_image: np.ndarray, search_image: np.ndarray) -> List[List[float]]:\n",
    "  # --- Load inputs (grayscale) ---------------------------------------------------\n",
    "  # We read both the logo (\"query\") and the scene (\"search\") as GRAYSCALE because\n",
    "  # SIFT operates on intensity gradients; color is not required for SIFT to work.\n",
    "  # Grayscale also saves memory and time without hurting descriptor quality.\n",
    "  if query_image is None or search_image is None:\n",
    "      return None\n",
    "\n",
    "  # --- Detect local features (SIFT) ---------------------------------------------\n",
    "  # Create a SIFT extractor. For each image, SIFT returns:\n",
    "  #   - keypoints (kp_*): points with location (x,y), scale, and orientation;\n",
    "  #   - descriptors (desc_*): a 128-D vector per keypoint encoding local gradient\n",
    "  #     patterns. These descriptors are approximately invariant to in-plane\n",
    "  #     rotation and uniform scale changes around each keypoint.\n",
    "  # We will match descriptors between the query and search images to hypothesize\n",
    "  # corresponding points that likely belong to the same physical logo parts.\n",
    "  sift = cv2.SIFT_create(\n",
    "      nfeatures=5000,              \n",
    "      contrastThreshold=0.02,      \n",
    "      edgeThreshold=20,            \n",
    "      sigma=1.2                     \n",
    "  )\n",
    "\n",
    "  kp_q, desc_q = sift.detectAndCompute(query_image, None)\n",
    "  kp_s, desc_s = sift.detectAndCompute(search_image, None)\n",
    "  \n",
    "  def rootsift(desc):\n",
    "    if desc is None: return None\n",
    "    eps = 1e-7\n",
    "    desc = desc.astype(np.float32)\n",
    "    desc /= (desc.sum(axis=1, keepdims=True) + eps)\n",
    "    return np.sqrt(desc)\n",
    "\n",
    "  desc_q_rs = rootsift(desc_q)\n",
    "  desc_s_rs = rootsift(desc_s)\n",
    "\n",
    "\n",
    "  if desc_q_rs is None or desc_s_rs is None or len(desc_q) < 2 or len(desc_s) < 2:\n",
    "    return None\n",
    "  # --- Build a descriptor matcher (FLANN + KD-tree) ------------------------------\n",
    "  # We now search, for each query descriptor, its nearest neighbors in the search\n",
    "  # image. FLANN (Fast Library for Approximate Nearest Neighbors) provides an\n",
    "  # efficient KD-tree index for floating-point descriptors like SIFT.\n",
    "  # 'trees=5' builds an ensemble of KD-trees (more trees -> better recall).\n",
    "  # 'checks=50' is the number of leaf checks at query time (more -> better accuracy).\n",
    "  # We ask for the 2 nearest neighbors (k=2) so we can apply the Lowe ratio test.\n",
    "  FLANN_INDEX_KDTREE = 1\n",
    "  index_params = dict(algorithm=FLANN_INDEX_KDTREE, trees=5)\n",
    "  search_params = dict(checks=50)\n",
    "  \n",
    "  bf = cv2.BFMatcher(cv2.NORM_L2, crossCheck=False)\n",
    "  matches = bf.knnMatch(desc_q_rs, desc_s_rs, k=2)\n",
    "\n",
    "\n",
    "  # flann = cv2.FlannBasedMatcher(index_params, search_params)\n",
    "  # try:\n",
    "  #     matches = flann.knnMatch(desc_q, desc_s, k=2)\n",
    "  # except cv2.error:\n",
    "  #     return None\n",
    "  # --- Lowe ratio test: keep distinctive matches ---------------------------------\n",
    "  # Each 'matches[i]' contains the best (m) and second-best (n) candidate in the\n",
    "  # search image for the i-th query descriptor. If m is only slightly better than n,\n",
    "  # the match is ambiguous and we discard it. The classic threshold is 0.7–0.8; here\n",
    "  # 0.7 is stricter (fewer, cleaner matches), which helps downstream geometry.\n",
    "  good_matches = []\n",
    "  for pair in matches:\n",
    "    if len(pair) < 2:\n",
    "      continue\n",
    "    m, n = pair\n",
    "    if m.distance < 0.8 * n.distance:\n",
    "      good_matches.append(m)\n",
    "  # --- Geometric verification + localization (Homography via RANSAC) -------------\n",
    "  # Descriptor matches alone are not enough: some are outliers. We robustly fit a\n",
    "  # single global planar transform (a homography) that many matches agree on.\n",
    "  # If enough good matches exist (MIN_MATCH_COUNT), we estimate H using RANSAC:\n",
    "  #   - Input: 2D correspondences between query (src_pts) and search (dst_pts).\n",
    "  #   - Output: 3x3 homography matrix M and an inlier mask (which matches agree).\n",
    "  # With M in hand, we can project the rectangle of the logo into the search image,\n",
    "  # obtaining the quadrilateral that localizes the logo under perspective.\n",
    "  if len(good_matches) >= MIN_MATCH_COUNT:\n",
    "    # Build Nx1x2 arrays of matched 2D points in query (src) and search (dst).\n",
    "    src_pts = np.float32([kp_q[m.queryIdx].pt for m in good_matches]).reshape(-1, 1, 2)\n",
    "    dst_pts = np.float32([kp_s[m.trainIdx].pt for m in good_matches]).reshape(-1, 1, 2)\n",
    "\n",
    "    # Estimate a planar projective transform with RANSAC.\n",
    "    # The reprojection threshold is 5.0 pixels (tune with image resolution).\n",
    "    M, mask = cv2.findHomography(src_pts, dst_pts, cv2.RANSAC, 7.0, maxIters=5000, confidence=0.999)\n",
    "    # 'mask' flags which matches are inliers (consistent with M).\n",
    "\n",
    "    if M is None or mask is None or mask.sum() < 4:\n",
    "      matchesMask = None\n",
    "      return None\n",
    "    else:\n",
    "      matchesMask = mask.ravel().tolist()\n",
    "\n",
    "      # Map the four corners of the query image through the homography to the search.\n",
    "      # This yields the logo's outline as a quadrilateral in the search image.\n",
    "      h, w = query_image.shape\n",
    "      pts = np.float32([ [0,0], [0, h - 1], [w - 1, h - 1], [w - 1, 0]]).reshape(-1, 1, 2)\n",
    "      dst = cv2.perspectiveTransform(pts, M)\n",
    "      points_for_area = np.asarray(dst).reshape(-1, 2).astype(np.float32)\n",
    "      area_region_result = abs(cv2.contourArea(points_for_area))\n",
    "      \n",
    "      bboxes = dst.reshape(-1, 2).tolist()\n",
    "      if bboxes:\n",
    "        x_coords = [p[0] for p in bboxes]\n",
    "        y_coords = [p[1] for p in bboxes]\n",
    "        width = search_image.shape[1]\n",
    "        height = search_image.shape[0]\n",
    "\n",
    "        x_min = int(max(0, min(x_coords)))\n",
    "        y_min = int(max(0, min(y_coords)))\n",
    "        x_max = int(min(width, max(x_coords)))\n",
    "        y_max = int(min(height, max(y_coords)))\n",
    "        \n",
    "        \n",
    "        area_region_rectangle = (x_max - x_min) * (y_max - y_min)\n",
    "        # print(area_region_result, area_region_rectangle)  \n",
    "        # print(height * width)\n",
    "\n",
    "        if area_region_rectangle == 0:\n",
    "            return None\n",
    "        \n",
    "        if area_region_result / area_region_rectangle < 0.1 or area_region_rectangle < (height * width * 0.0005):\n",
    "          return None\n",
    "        \n",
    "      return bboxes\n",
    "  else:\n",
    "    # If we don't have enough high-quality matches, homography estimation would\n",
    "    # be unstable. Report how many we had versus the minimum required.\n",
    "    return None"
   ]
  },
  {
   "cell_type": "code",
   "execution_count": 5,
   "id": "857f124b",
   "metadata": {
    "execution": {
     "iopub.execute_input": "2025-09-16T14:38:22.562282Z",
     "iopub.status.busy": "2025-09-16T14:38:22.561765Z",
     "iopub.status.idle": "2025-09-16T14:38:22.567974Z",
     "shell.execute_reply": "2025-09-16T14:38:22.566851Z"
    },
    "id": "eheFfpaG74Di",
    "papermill": {
     "duration": 0.01391,
     "end_time": "2025-09-16T14:38:22.569548",
     "exception": false,
     "start_time": "2025-09-16T14:38:22.555638",
     "status": "completed"
    },
    "tags": []
   },
   "outputs": [],
   "source": [
    "def draw_bbox(image, bbox, color=(0, 255, 0), thickness=2):\n",
    "  labelled_image = cv2.polylines(image, [np.int32(bbox).reshape(-1, 1, 2)],True, 255, 3, cv2.LINE_AA)\n",
    "  plt.imshow(labelled_image)\n",
    "  plt.show()\n"
   ]
  },
  {
   "cell_type": "code",
   "execution_count": 6,
   "id": "904db2ec",
   "metadata": {
    "execution": {
     "iopub.execute_input": "2025-09-16T14:38:22.582480Z",
     "iopub.status.busy": "2025-09-16T14:38:22.581709Z",
     "iopub.status.idle": "2025-09-16T14:38:22.587568Z",
     "shell.execute_reply": "2025-09-16T14:38:22.586546Z"
    },
    "id": "26kWXSCoBg2l",
    "papermill": {
     "duration": 0.014819,
     "end_time": "2025-09-16T14:38:22.589191",
     "exception": false,
     "start_time": "2025-09-16T14:38:22.574372",
     "status": "completed"
    },
    "tags": []
   },
   "outputs": [],
   "source": [
    "def detect_logo(tbank_logo_path: str, image_path: str):\n",
    "    tbank_logo = cv2.imread(tbank_logo_path, cv2.IMREAD_GRAYSCALE)\n",
    "    image = cv2.imread(image_path, cv2.IMREAD_GRAYSCALE)\n",
    "    if tbank_logo is None or image is None:\n",
    "        return None\n",
    "    bboxes_tbank = detect_image_on_another(tbank_logo, image)\n",
    "\n",
    "    if bboxes_tbank:\n",
    "        return bboxes_tbank\n",
    "    else:\n",
    "        return None"
   ]
  },
  {
   "cell_type": "code",
   "execution_count": 7,
   "id": "35ab87ea",
   "metadata": {
    "execution": {
     "iopub.execute_input": "2025-09-16T14:38:22.602193Z",
     "iopub.status.busy": "2025-09-16T14:38:22.601861Z",
     "iopub.status.idle": "2025-09-16T14:38:22.611345Z",
     "shell.execute_reply": "2025-09-16T14:38:22.610672Z"
    },
    "id": "4KGame7AFh_p",
    "papermill": {
     "duration": 0.018305,
     "end_time": "2025-09-16T14:38:22.612663",
     "exception": false,
     "start_time": "2025-09-16T14:38:22.594358",
     "status": "completed"
    },
    "tags": []
   },
   "outputs": [],
   "source": [
    "def quad_to_yolo_xywh(quad_xy, img_shape):\n",
    "    \"\"\"\n",
    "    quad_xy: iterable with 4 (x,y) corner points (any order).\n",
    "    img_shape: image.shape (H, W) or (H, W, C).\n",
    "    returns: (xc_norm, yc_norm, w_norm, h_norm)\n",
    "    \"\"\"\n",
    "    h, w = img_shape[:2]\n",
    "    quad = np.array(quad_xy, dtype=np.float32).reshape(-1, 2)\n",
    "\n",
    "    # Clip to image bounds to avoid tiny out-of-frame artifacts from homography\n",
    "    quad[:, 0] = np.clip(quad[:, 0], 0, w - 1)\n",
    "    quad[:, 1] = np.clip(quad[:, 1], 0, h - 1)\n",
    "\n",
    "    # Axis-aligned bounding rectangle (two equivalent ways):\n",
    "    # Way A: min/max\n",
    "    x_min, y_min = quad[:, 0].min(), quad[:, 1].min()\n",
    "    x_max, y_max = quad[:, 0].max(), quad[:, 1].max()\n",
    "\n",
    "    # Way B (equivalent): OpenCV boundingRect\n",
    "    # x_min, y_min, bw, bh = cv2.boundingRect(quad.astype(np.int32))\n",
    "    # x_max, y_max = x_min + bw, y_min + bh\n",
    "\n",
    "    bw, bh = (x_max - x_min), (y_max - y_min)\n",
    "    if bw <= 0 or bh <= 0:\n",
    "        raise ValueError(\"Degenerate box after homography.\")\n",
    "\n",
    "    xc, yc = (x_min + x_max) / 2.0, (y_min + y_max) / 2.0\n",
    "    # Normalize\n",
    "    return (xc / w, yc / h, bw / w, bh / h)\n"
   ]
  },
  {
   "cell_type": "code",
   "execution_count": 8,
   "id": "cbdae2b0",
   "metadata": {
    "execution": {
     "iopub.execute_input": "2025-09-16T14:38:22.622471Z",
     "iopub.status.busy": "2025-09-16T14:38:22.621889Z",
     "iopub.status.idle": "2025-09-16T14:38:22.626957Z",
     "shell.execute_reply": "2025-09-16T14:38:22.626288Z"
    },
    "id": "6JU4UzaAKF3_",
    "papermill": {
     "duration": 0.01197,
     "end_time": "2025-09-16T14:38:22.628383",
     "exception": false,
     "start_time": "2025-09-16T14:38:22.616413",
     "status": "completed"
    },
    "tags": []
   },
   "outputs": [],
   "source": [
    "def yolo_to_rect(xc_n, yc_n, w_n, h_n, img_shape):\n",
    "    h, w = img_shape[:2]\n",
    "    xc, yc, bw, bh = xc_n*w, yc_n*h, w_n*w, h_n*h\n",
    "    x1 = int(round(xc - bw/2)); y1 = int(round(yc - bh/2))\n",
    "    x2 = int(round(xc + bw/2)); y2 = int(round(yc + bh/2))\n",
    "    return x1, y1, x2, y2"
   ]
  },
  {
   "cell_type": "code",
   "execution_count": 9,
   "id": "9a94bc4c",
   "metadata": {
    "execution": {
     "iopub.execute_input": "2025-09-16T14:38:22.636766Z",
     "iopub.status.busy": "2025-09-16T14:38:22.636429Z",
     "iopub.status.idle": "2025-09-16T14:38:22.642559Z",
     "shell.execute_reply": "2025-09-16T14:38:22.641919Z"
    },
    "id": "y_AAMLGwKJXc",
    "papermill": {
     "duration": 0.011769,
     "end_time": "2025-09-16T14:38:22.643850",
     "exception": false,
     "start_time": "2025-09-16T14:38:22.632081",
     "status": "completed"
    },
    "tags": []
   },
   "outputs": [],
   "source": [
    "def visualize_quad_and_yolo(img_bgr, quad, xywh_n, title=\"check\"):\n",
    "    img = img_bgr.copy()\n",
    "    # polygon\n",
    "    poly = np.int32(np.array(quad).reshape(-1,1,2))\n",
    "    cv2.polylines(img, [poly], True, (255, 0, 0), 2)  # blue polygon\n",
    "\n",
    "    # YOLO rect from normalized values\n",
    "    x1, y1, x2, y2 = yolo_to_rect(*xywh_n, img.shape)\n",
    "    cv2.rectangle(img, (x1,y1), (x2,y2), (0, 255, 0), 2)  # green rect\n",
    "    plt.figure(figsize=(6,6)); plt.title(title); plt.imshow(cv2.cvtColor(img, cv2.COLOR_BGR2RGB)); plt.axis(\"off\"); plt.show()\n"
   ]
  },
  {
   "cell_type": "markdown",
   "id": "3780e065",
   "metadata": {
    "id": "VQyzzOEmDiUD",
    "papermill": {
     "duration": 0.003249,
     "end_time": "2025-09-16T14:38:22.650597",
     "exception": false,
     "start_time": "2025-09-16T14:38:22.647348",
     "status": "completed"
    },
    "tags": []
   },
   "source": [
    "## Rename all files"
   ]
  },
  {
   "cell_type": "code",
   "execution_count": 10,
   "id": "551eb661",
   "metadata": {
    "execution": {
     "iopub.execute_input": "2025-09-16T14:38:22.658416Z",
     "iopub.status.busy": "2025-09-16T14:38:22.657871Z",
     "iopub.status.idle": "2025-09-16T14:38:23.155858Z",
     "shell.execute_reply": "2025-09-16T14:38:23.154905Z"
    },
    "id": "8khWjTHpErnh",
    "papermill": {
     "duration": 0.503563,
     "end_time": "2025-09-16T14:38:23.157426",
     "exception": false,
     "start_time": "2025-09-16T14:38:22.653863",
     "status": "completed"
    },
    "tags": []
   },
   "outputs": [],
   "source": [
    "idx = 0\n",
    "for file_name in os.listdir(\"./Dataset\"):\n",
    "  os.rename(\"./Dataset/\" + file_name, \"./Dataset/\" + str(idx) + \".jpg\")\n",
    "  idx += 1"
   ]
  },
  {
   "cell_type": "code",
   "execution_count": 11,
   "id": "44cb18a2",
   "metadata": {
    "execution": {
     "iopub.execute_input": "2025-09-16T14:38:23.166568Z",
     "iopub.status.busy": "2025-09-16T14:38:23.165803Z",
     "iopub.status.idle": "2025-09-16T14:38:23.186907Z",
     "shell.execute_reply": "2025-09-16T14:38:23.186043Z"
    },
    "id": "sE713GotDjRs",
    "papermill": {
     "duration": 0.027214,
     "end_time": "2025-09-16T14:38:23.188432",
     "exception": false,
     "start_time": "2025-09-16T14:38:23.161218",
     "status": "completed"
    },
    "tags": []
   },
   "outputs": [],
   "source": [
    "images_subset = os.listdir(\"./Dataset\")\n",
    "np.random.shuffle(images_subset)\n",
    "images_subset = images_subset[:SUBSET_IMAGE_SIZE]"
   ]
  },
  {
   "cell_type": "code",
   "execution_count": 12,
   "id": "c33cc3bf",
   "metadata": {
    "execution": {
     "iopub.execute_input": "2025-09-16T14:38:23.196691Z",
     "iopub.status.busy": "2025-09-16T14:38:23.196404Z",
     "iopub.status.idle": "2025-09-16T14:38:23.203290Z",
     "shell.execute_reply": "2025-09-16T14:38:23.202538Z"
    },
    "id": "DLHZ-USqKvyy",
    "papermill": {
     "duration": 0.012539,
     "end_time": "2025-09-16T14:38:23.204679",
     "exception": false,
     "start_time": "2025-09-16T14:38:23.192140",
     "status": "completed"
    },
    "tags": []
   },
   "outputs": [],
   "source": [
    "np.random.shuffle(images_subset)\n",
    "train_images = images_subset[:int(len(images_subset) * TRAIN_COEFFICIENT)]\n",
    "test_images = images_subset[int(len(images_subset) * TRAIN_COEFFICIENT):]"
   ]
  },
  {
   "cell_type": "code",
   "execution_count": 13,
   "id": "958ba597",
   "metadata": {
    "execution": {
     "iopub.execute_input": "2025-09-16T14:38:23.213452Z",
     "iopub.status.busy": "2025-09-16T14:38:23.212757Z",
     "iopub.status.idle": "2025-09-16T14:38:23.217629Z",
     "shell.execute_reply": "2025-09-16T14:38:23.216952Z"
    },
    "id": "fy2_WVSiLMVT",
    "papermill": {
     "duration": 0.010639,
     "end_time": "2025-09-16T14:38:23.218937",
     "exception": false,
     "start_time": "2025-09-16T14:38:23.208298",
     "status": "completed"
    },
    "tags": []
   },
   "outputs": [],
   "source": [
    "os.makedirs(\"./yolo_dataset\", exist_ok=True)\n",
    "os.makedirs(\"./yolo_dataset/images/train\", exist_ok=True)\n",
    "os.makedirs(\"./yolo_dataset/images/val\", exist_ok=True)\n",
    "os.makedirs(\"./yolo_dataset/labels/train\", exist_ok=True)\n",
    "os.makedirs(\"./yolo_dataset/labels/val\", exist_ok=True)\n",
    "\n"
   ]
  },
  {
   "cell_type": "code",
   "execution_count": 14,
   "id": "1420d47d",
   "metadata": {
    "execution": {
     "iopub.execute_input": "2025-09-16T14:38:23.227452Z",
     "iopub.status.busy": "2025-09-16T14:38:23.226783Z",
     "iopub.status.idle": "2025-09-16T18:59:51.857864Z",
     "shell.execute_reply": "2025-09-16T18:59:51.855229Z"
    },
    "id": "oV-VIT3WLKVK",
    "outputId": "929cd08e-8571-4696-cdc2-0247d2dc60e6",
    "papermill": {
     "duration": 15688.637223,
     "end_time": "2025-09-16T18:59:51.859711",
     "exception": false,
     "start_time": "2025-09-16T14:38:23.222488",
     "status": "completed"
    },
    "tags": []
   },
   "outputs": [
    {
     "name": "stderr",
     "output_type": "stream",
     "text": [
      "  1%|          | 208/26100 [02:19<2:34:32,  2.79it/s]"
     ]
    },
    {
     "name": "stdout",
     "output_type": "stream",
     "text": [
      "Error occured\n"
     ]
    },
    {
     "name": "stderr",
     "output_type": "stream",
     "text": [
      " 51%|█████     | 13239/26100 [2:09:41<1:14:13,  2.89it/s]"
     ]
    },
    {
     "name": "stdout",
     "output_type": "stream",
     "text": [
      "Error occured\n"
     ]
    },
    {
     "name": "stderr",
     "output_type": "stream",
     "text": [
      " 66%|██████▋   | 17296/26100 [2:51:31<2:49:54,  1.16s/it]"
     ]
    },
    {
     "name": "stdout",
     "output_type": "stream",
     "text": [
      "Error occured\n"
     ]
    },
    {
     "name": "stderr",
     "output_type": "stream",
     "text": [
      "100%|██████████| 26100/26100 [4:21:28<00:00,  1.66it/s]\n"
     ]
    }
   ],
   "source": [
    "for train_img in tqdm.tqdm(train_images):\n",
    "  src = f\"./Dataset/{train_img}\"\n",
    "  try:\n",
    "    img = cv2.imread(src)\n",
    "    bboxes = detect_logo(TBANK_PATH, src)\n",
    "    if bboxes:\n",
    "      xc, yc, w, h = quad_to_yolo_xywh(bboxes, img.shape)\n",
    "      with open(f\"./yolo_dataset/labels/train/{train_img[:-4]}.txt\", \"w\") as f:\n",
    "        f.write(f\"0 {xc:.6f} {yc:.6f} {w:.6f} {h:.6f}\\n\")\n",
    "  except Exception:\n",
    "    print(f\"Error occured\")\n",
    "  finally:\n",
    "    shutil.copy(src, f\"./yolo_dataset/images/train/{train_img}\")\n"
   ]
  },
  {
   "cell_type": "code",
   "execution_count": 15,
   "id": "3de28acc",
   "metadata": {
    "execution": {
     "iopub.execute_input": "2025-09-16T18:59:54.434471Z",
     "iopub.status.busy": "2025-09-16T18:59:54.433420Z",
     "iopub.status.idle": "2025-09-16T19:29:03.668709Z",
     "shell.execute_reply": "2025-09-16T19:29:03.667777Z"
    },
    "id": "Zds--DlVLtXx",
    "papermill": {
     "duration": 1750.567924,
     "end_time": "2025-09-16T19:29:03.670146",
     "exception": false,
     "start_time": "2025-09-16T18:59:53.102222",
     "status": "completed"
    },
    "tags": []
   },
   "outputs": [
    {
     "name": "stderr",
     "output_type": "stream",
     "text": [
      "100%|██████████| 2900/2900 [29:09<00:00,  1.66it/s]\n"
     ]
    }
   ],
   "source": [
    "for test_img in tqdm.tqdm(test_images):\n",
    "  src = f\"./Dataset/{test_img}\"\n",
    "  try:\n",
    "    img = cv2.imread(src)\n",
    "    bboxes = detect_logo(TBANK_PATH, src)\n",
    "    if bboxes:\n",
    "      xc, yc, w, h = quad_to_yolo_xywh(bboxes, img.shape)\n",
    "      with open(f\"./yolo_dataset/labels/val/{test_img[:-4]}.txt\", \"w\") as f:\n",
    "        f.write(f\"0 {xc:.6f} {yc:.6f} {w:.6f} {h:.6f}\\n\")\n",
    "  except Exception:\n",
    "    print(f\"Error occured\")\n",
    "  finally:\n",
    "    shutil.copy(src, f\"./yolo_dataset/images/val/{test_img}\")\n"
   ]
  },
  {
   "cell_type": "code",
   "execution_count": 16,
   "id": "e5ca1242",
   "metadata": {
    "execution": {
     "iopub.execute_input": "2025-09-16T19:29:06.632486Z",
     "iopub.status.busy": "2025-09-16T19:29:06.632147Z",
     "iopub.status.idle": "2025-09-16T19:29:06.636858Z",
     "shell.execute_reply": "2025-09-16T19:29:06.636075Z"
    },
    "id": "WUOXlU3GOWoX",
    "papermill": {
     "duration": 1.481287,
     "end_time": "2025-09-16T19:29:06.638203",
     "exception": false,
     "start_time": "2025-09-16T19:29:05.156916",
     "status": "completed"
    },
    "tags": []
   },
   "outputs": [],
   "source": [
    "data = {\n",
    "    'path': '.',\n",
    "    'nc': 1,\n",
    "    'train': 'images/train',\n",
    "    'val': 'images/val',\n",
    "    'names': {\n",
    "        0: 'tbank_logo',\n",
    "    }\n",
    "}"
   ]
  },
  {
   "cell_type": "code",
   "execution_count": 17,
   "id": "b3959152",
   "metadata": {
    "execution": {
     "iopub.execute_input": "2025-09-16T19:29:09.483027Z",
     "iopub.status.busy": "2025-09-16T19:29:09.482704Z",
     "iopub.status.idle": "2025-09-16T19:29:09.491448Z",
     "shell.execute_reply": "2025-09-16T19:29:09.490403Z"
    },
    "id": "YiNPRziLObRT",
    "papermill": {
     "duration": 1.491721,
     "end_time": "2025-09-16T19:29:09.492982",
     "exception": false,
     "start_time": "2025-09-16T19:29:08.001261",
     "status": "completed"
    },
    "tags": []
   },
   "outputs": [],
   "source": [
    "with open('./yolo_dataset/data.yaml', 'w') as file:\n",
    "  yaml.dump(data, file)"
   ]
  },
  {
   "cell_type": "code",
   "execution_count": 18,
   "id": "dcd52998",
   "metadata": {
    "execution": {
     "iopub.execute_input": "2025-09-16T19:29:16.191057Z",
     "iopub.status.busy": "2025-09-16T19:29:16.190444Z",
     "iopub.status.idle": "2025-09-16T19:30:49.232179Z",
     "shell.execute_reply": "2025-09-16T19:30:49.231297Z"
    },
    "papermill": {
     "duration": 98.020496,
     "end_time": "2025-09-16T19:30:50.737765",
     "exception": false,
     "start_time": "2025-09-16T19:29:12.717269",
     "status": "completed"
    },
    "tags": []
   },
   "outputs": [
    {
     "name": "stdout",
     "output_type": "stream",
     "text": [
      "Packed yolo_dataset.zip and removed the original folder.\n"
     ]
    }
   ],
   "source": [
    "import os, zipfile, shutil\n",
    "\n",
    "def zipdir(dir_path: str, zip_path: str):\n",
    "    with zipfile.ZipFile(zip_path, \"w\", zipfile.ZIP_DEFLATED) as z:\n",
    "        for root, _, files in os.walk(dir_path):\n",
    "            for f in files:\n",
    "                full = os.path.join(root, f)\n",
    "                rel = os.path.relpath(full, dir_path)\n",
    "                z.write(full, arcname=os.path.join(\"yolo_dataset\", rel))\n",
    "\n",
    "zipdir(\"yolo_dataset\", \"yolo_dataset.zip\")\n",
    "\n",
    "\n",
    "shutil.rmtree(\"yolo_dataset\")\n",
    "shutil.rmtree(\"Dataset\")\n",
    "print(\"Packed yolo_dataset.zip and removed the original folder.\")\n"
   ]
  }
 ],
 "metadata": {
  "colab": {
   "provenance": []
  },
  "kaggle": {
   "accelerator": "none",
   "dataSources": [
    {
     "datasetId": 8274982,
     "sourceId": 13066613,
     "sourceType": "datasetVersion"
    },
    {
     "datasetId": 8281596,
     "sourceId": 13076223,
     "sourceType": "datasetVersion"
    }
   ],
   "dockerImageVersionId": 31089,
   "isGpuEnabled": false,
   "isInternetEnabled": true,
   "language": "python",
   "sourceType": "notebook"
  },
  "kernelspec": {
   "display_name": "Python 3",
   "language": "python",
   "name": "python3"
  },
  "language_info": {
   "codemirror_mode": {
    "name": "ipython",
    "version": 3
   },
   "file_extension": ".py",
   "mimetype": "text/x-python",
   "name": "python",
   "nbconvert_exporter": "python",
   "pygments_lexer": "ipython3",
   "version": "3.11.13"
  },
  "papermill": {
   "default_parameters": {},
   "duration": 17735.233886,
   "end_time": "2025-09-16T19:30:52.883203",
   "environment_variables": {},
   "exception": null,
   "input_path": "__notebook__.ipynb",
   "output_path": "__notebook__.ipynb",
   "parameters": {},
   "start_time": "2025-09-16T14:35:17.649317",
   "version": "2.6.0"
  }
 },
 "nbformat": 4,
 "nbformat_minor": 5
}
